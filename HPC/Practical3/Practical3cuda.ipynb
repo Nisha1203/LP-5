{
  "nbformat": 4,
  "nbformat_minor": 0,
  "metadata": {
    "colab": {
      "provenance": [],
      "gpuType": "T4"
    },
    "kernelspec": {
      "name": "python3",
      "display_name": "Python 3"
    },
    "language_info": {
      "name": "python"
    },
    "accelerator": "GPU"
  },
  "cells": [
    {
      "cell_type": "code",
      "execution_count": 1,
      "metadata": {
        "colab": {
          "base_uri": "https://localhost:8080/"
        },
        "id": "DR1mPxeTvjnG",
        "outputId": "e35d7885-6dad-443e-c24f-b1cdae655ecc"
      },
      "outputs": [
        {
          "output_type": "stream",
          "name": "stdout",
          "text": [
            "nvcc: NVIDIA (R) Cuda compiler driver\n",
            "Copyright (c) 2005-2023 NVIDIA Corporation\n",
            "Built on Tue_Aug_15_22:02:13_PDT_2023\n",
            "Cuda compilation tools, release 12.2, V12.2.140\n",
            "Build cuda_12.2.r12.2/compiler.33191640_0\n"
          ]
        }
      ],
      "source": [
        "!nvcc --version"
      ]
    },
    {
      "cell_type": "markdown",
      "source": [],
      "metadata": {
        "id": "GfQBE3auwgg4"
      }
    },
    {
      "cell_type": "code",
      "source": [
        "!pip install git+https://github.com/afnan47/cuda.git"
      ],
      "metadata": {
        "colab": {
          "base_uri": "https://localhost:8080/"
        },
        "id": "q10vpDFZv9YZ",
        "outputId": "68442915-b626-471e-d3d3-b6264ae8d29d"
      },
      "execution_count": 2,
      "outputs": [
        {
          "output_type": "stream",
          "name": "stdout",
          "text": [
            "Collecting git+https://github.com/afnan47/cuda.git\n",
            "  Cloning https://github.com/afnan47/cuda.git to /tmp/pip-req-build-b1c7hdyz\n",
            "  Running command git clone --filter=blob:none --quiet https://github.com/afnan47/cuda.git /tmp/pip-req-build-b1c7hdyz\n",
            "  Resolved https://github.com/afnan47/cuda.git to commit aac710a35f52bb78ab34d2e52517237941399eff\n",
            "  Preparing metadata (setup.py) ... \u001b[?25l\u001b[?25hdone\n"
          ]
        }
      ]
    },
    {
      "cell_type": "code",
      "source": [
        "%load_ext nvcc_plugin"
      ],
      "metadata": {
        "colab": {
          "base_uri": "https://localhost:8080/"
        },
        "id": "imFwNnCqwELF",
        "outputId": "2688356e-dd15-4234-97f6-37ebd9e4012e"
      },
      "execution_count": 3,
      "outputs": [
        {
          "output_type": "stream",
          "name": "stdout",
          "text": [
            "directory /content/src already exists\n",
            "Out bin /content/result.out\n"
          ]
        }
      ]
    },
    {
      "cell_type": "code",
      "source": [
        "%%writefile operation.cu\n",
        "\n",
        "#include <iostream>\n",
        "#include <cuda_runtime.h>\n",
        "#include <algorithm> // For min and max operations\n",
        "#include <vector>\n",
        "\n",
        "using namespace std;\n",
        "\n",
        "// CUDA device function for reduction to find minimum value\n",
        "__global__ void min_reduction(int* d_arr, int* d_result, int size) {\n",
        "    extern __shared__ int sdata[];\n",
        "    int tid = threadIdx.x;\n",
        "    int global_id = blockIdx.x * blockDim.x + threadIdx.x;\n",
        "\n",
        "    // Load data into shared memory\n",
        "    if (global_id < size) {\n",
        "        sdata[tid] = d_arr[global_id];\n",
        "    } else {\n",
        "        sdata[tid] = INT_MAX;\n",
        "    }\n",
        "    __syncthreads();\n",
        "\n",
        "    // Reduction to find minimum\n",
        "    for (int stride = blockDim.x / 2; stride > 0; stride >>= 1) {\n",
        "        if (tid < stride && global_id + stride < size) {\n",
        "            sdata[tid] = min(sdata[tid], sdata[tid + stride]);\n",
        "        }\n",
        "        __syncthreads();\n",
        "    }\n",
        "\n",
        "    // Store the result from the first thread in each block\n",
        "    if (tid == 0) {\n",
        "        d_result[blockIdx.x] = sdata[0];\n",
        "    }\n",
        "}\n",
        "\n",
        "// CUDA device function for reduction to find maximum value\n",
        "__global__ void max_reduction(int* d_arr, int* d_result, int size) {\n",
        "    extern __shared__ int sdata[];\n",
        "    int tid = threadIdx.x;\n",
        "    int global_id = blockIdx.x * blockDim.x + threadIdx.x;\n",
        "\n",
        "    // Load data into shared memory\n",
        "    if (global_id < size) {\n",
        "        sdata[tid] = d_arr[global_id];\n",
        "    } else {\n",
        "        sdata[tid] = INT_MIN;\n",
        "    }\n",
        "    __syncthreads();\n",
        "\n",
        "    // Reduction to find maximum\n",
        "    for (int stride = blockDim.x / 2; stride > 0; stride >>= 1) {\n",
        "        if (tid < stride && global_id + stride < size) {\n",
        "            sdata[tid] = max(sdata[tid], sdata[tid + stride]);\n",
        "        }\n",
        "        __syncthreads();\n",
        "    }\n",
        "\n",
        "    // Store the result from the first thread in each block\n",
        "    if (tid == 0) {\n",
        "        d_result[blockIdx.x] = sdata[0];\n",
        "    }\n",
        "}\n",
        "\n",
        "// CUDA device function for reduction to find sum\n",
        "__global__ void sum_reduction(int* d_arr, int* d_result, int size) {\n",
        "    extern __shared__ int sdata[];\n",
        "    int tid = threadIdx.x;\n",
        "    int global_id = blockIdx.x * blockDim.x + threadIdx.x;\n",
        "\n",
        "    // Load data into shared memory\n",
        "    if (global_id < size) {\n",
        "        sdata[tid] = d_arr[global_id];\n",
        "    } else {\n",
        "        sdata[tid] = 0;\n",
        "    }\n",
        "    __syncthreads();\n",
        "\n",
        "    // Reduction to find sum\n",
        "    for (int stride = blockDim.x / 2; stride > 0; stride >>= 1) {\n",
        "        if (tid < stride && global_id + stride < size) {\n",
        "            sdata[tid] += sdata[tid + stride];\n",
        "        }\n",
        "        __syncthreads();\n",
        "    }\n",
        "\n",
        "    // Store the result from the first thread in each block\n",
        "    if (tid == 0) {\n",
        "        d_result[blockIdx.x] = sdata[0];\n",
        "    }\n",
        "}\n",
        "\n",
        "// Function to calculate the final reduction on the host\n",
        "int final_reduction(int* d_result, int size, int (*op)(int, int)) {\n",
        "    std::vector<int> h_result(size);\n",
        "    cudaMemcpy(h_result.data(), d_result, size * sizeof(int), cudaMemcpyDeviceToHost);\n",
        "\n",
        "    // Perform final reduction on the host\n",
        "    int final_result = h_result[0];\n",
        "    for (int i = 1; i < size; i++) {\n",
        "        final_result = op(final_result, h_result[i]);\n",
        "    }\n",
        "\n",
        "    return final_result;\n",
        "}\n",
        "\n",
        "int main() {\n",
        "    int n;\n",
        "    cout << \"Enter the number of elements: \";\n",
        "    cin >> n;\n",
        "\n",
        "    // Allocate memory on the CPU for the array\n",
        "    int* arr = new int[n];\n",
        "\n",
        "    // Input the array elements from the user\n",
        "    cout << \"Enter \" << n << \" elements:\\n\";\n",
        "    for (int i = 0; i < n; ++i) {\n",
        "        cin >> arr[i];\n",
        "    }\n",
        "\n",
        "    // Allocate memory on the GPU\n",
        "    int* d_arr;\n",
        "    cudaMalloc(&d_arr, n * sizeof(int));\n",
        "    cudaMemcpy(d_arr, arr, n * sizeof(int), cudaMemcpyHostToDevice);\n",
        "\n",
        "    int blockSize = 256;\n",
        "    int gridSize = (n + blockSize - 1) / blockSize;\n",
        "\n",
        "   // Minimum value\n",
        "    int* d_min_result;\n",
        "    cudaMalloc(&d_min_result, gridSize * sizeof(int));\n",
        "    min_reduction<<<gridSize, blockSize, blockSize * sizeof(int)>>>(d_arr, d_min_result, n);\n",
        "    int minval = final_reduction(d_min_result, gridSize, [](int a, int b) { return std::min(a, b); });\n",
        "\n",
        "\n",
        "    // Maximum value\n",
        "    int* d_max_result;\n",
        "    cudaMalloc(&d_max_result, gridSize * sizeof(int));\n",
        "    max_reduction<<<gridSize, blockSize, blockSize * sizeof(int)>>>(d_arr, d_max_result, n);\n",
        "    int maxval = final_reduction(d_max_result, gridSize, [](int a, int b) { return std::max(a, b); });\n",
        "\n",
        "    // Summation\n",
        "    int* d_sum_result;\n",
        "    cudaMalloc(&d_sum_result, gridSize * sizeof(int));\n",
        "    sum_reduction<<<gridSize, blockSize, blockSize * sizeof(int)>>>(d_arr, d_sum_result, n);\n",
        "    int sumval = final_reduction(d_sum_result, gridSize, [](int a, int b) { return a + b; });\n",
        "\n",
        "\n",
        "    // Calculate average on the host\n",
        "    double average = (double)sumval / n;\n",
        "\n",
        "    std::cout << \"The minimum value is: \" << minval << std::endl;\n",
        "    std::cout << \"The maximum value is: \" << maxval << std::endl;\n",
        "    std::cout << \"The summation is: \" << sumval << std::endl;\n",
        "    std::cout << \"The average is: \" << average << std::endl;\n",
        "\n",
        "    // Free memory\n",
        "    delete[] arr;\n",
        "    cudaFree(d_arr);\n",
        "    cudaFree(d_min_result);\n",
        "    cudaFree(d_max_result);\n",
        "    cudaFree(d_sum_result);\n",
        "\n",
        "    return 0;\n",
        "}\n"
      ],
      "metadata": {
        "colab": {
          "base_uri": "https://localhost:8080/"
        },
        "id": "1c219AdYv1rN",
        "outputId": "befcbf93-5678-4d9b-d74b-490436f74a37"
      },
      "execution_count": 4,
      "outputs": [
        {
          "output_type": "stream",
          "name": "stdout",
          "text": [
            "Overwriting operation.cu\n"
          ]
        }
      ]
    },
    {
      "cell_type": "code",
      "source": [
        "!nvcc operation.cu -o opt"
      ],
      "metadata": {
        "id": "tnxOOYNq0uPG"
      },
      "execution_count": 5,
      "outputs": []
    },
    {
      "cell_type": "code",
      "source": [
        "!./opt"
      ],
      "metadata": {
        "colab": {
          "base_uri": "https://localhost:8080/"
        },
        "id": "4JT_GYCv0y9P",
        "outputId": "cf1d47a5-2df1-4594-831b-95dfa64d7dcb"
      },
      "execution_count": 6,
      "outputs": [
        {
          "output_type": "stream",
          "name": "stdout",
          "text": [
            "Enter the number of elements: 5\n",
            "Enter 5 elements:\n",
            "1\n",
            "2\n",
            "3\n",
            "4\n",
            "5\n",
            "The minimum value is: 1\n",
            "The maximum value is: 5\n",
            "The summation is: 15\n",
            "The average is: 3\n"
          ]
        }
      ]
    },
    {
      "cell_type": "code",
      "source": [],
      "metadata": {
        "id": "51GY_z7Q2xyE"
      },
      "execution_count": 6,
      "outputs": []
    }
  ]
}